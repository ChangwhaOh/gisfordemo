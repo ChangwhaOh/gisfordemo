{
 "cells": [
  {
   "cell_type": "code",
   "execution_count": 23,
   "metadata": {},
   "outputs": [],
   "source": [
    "import random\n",
    "import string\n",
    "\n",
    "def generate_random_string(length, upper = True, digit = True, punc = True):\n",
    "    \"\"\"Generates a random string of a specified length.\"\"\"\n",
    "    chars = string.ascii_lowercase\n",
    "    if upper:\n",
    "        chars += string.ascii_uppercase\n",
    "    if digit:\n",
    "        chars += string.digits\n",
    "    if punc:\n",
    "        chars += string.punctuation\n",
    "    \n",
    "    print(chars)\n",
    "    result_str = ''.join(random.choice(chars) for i in range(length))\n",
    "    return result_str"
   ]
  },
  {
   "cell_type": "code",
   "execution_count": 24,
   "metadata": {},
   "outputs": [
    {
     "name": "stdout",
     "output_type": "stream",
     "text": [
      "abcdefghijklmnopqrstuvwxyzABCDEFGHIJKLMNOPQRSTUVWXYZ0123456789\n"
     ]
    },
    {
     "data": {
      "text/plain": [
       "'6zJcmJknaO'"
      ]
     },
     "execution_count": 24,
     "metadata": {},
     "output_type": "execute_result"
    }
   ],
   "source": [
    "generate_random_string(10, punc = False)"
   ]
  }
 ],
 "metadata": {
  "kernelspec": {
   "display_name": "geog510",
   "language": "python",
   "name": "python3"
  },
  "language_info": {
   "codemirror_mode": {
    "name": "ipython",
    "version": 3
   },
   "file_extension": ".py",
   "mimetype": "text/x-python",
   "name": "python",
   "nbconvert_exporter": "python",
   "pygments_lexer": "ipython3",
   "version": "3.9.16"
  },
  "orig_nbformat": 4
 },
 "nbformat": 4,
 "nbformat_minor": 2
}
